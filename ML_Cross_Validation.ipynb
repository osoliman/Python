{
 "cells": [
  {
   "cell_type": "code",
   "execution_count": 1,
   "metadata": {},
   "outputs": [],
   "source": [
    "import pandas as pd\n",
    "from lightgbm import LGBMRegressor\n",
    "from sklearn.model_selection import KFold, GridSearchCV\n",
    "import math"
   ]
  },
  {
   "cell_type": "code",
   "execution_count": 2,
   "metadata": {},
   "outputs": [],
   "source": [
    "df = pd.read_excel(r'Data.xlsx')"
   ]
  },
  {
   "cell_type": "code",
   "execution_count": 3,
   "metadata": {},
   "outputs": [
    {
     "data": {
      "text/html": [
       "<div>\n",
       "<style scoped>\n",
       "    .dataframe tbody tr th:only-of-type {\n",
       "        vertical-align: middle;\n",
       "    }\n",
       "\n",
       "    .dataframe tbody tr th {\n",
       "        vertical-align: top;\n",
       "    }\n",
       "\n",
       "    .dataframe thead th {\n",
       "        text-align: right;\n",
       "    }\n",
       "</style>\n",
       "<table border=\"1\" class=\"dataframe\">\n",
       "  <thead>\n",
       "    <tr style=\"text-align: right;\">\n",
       "      <th></th>\n",
       "      <th>Outcome</th>\n",
       "      <th>Feature1</th>\n",
       "      <th>Feature2</th>\n",
       "      <th>Feature3</th>\n",
       "      <th>Feature4</th>\n",
       "      <th>Feature5</th>\n",
       "    </tr>\n",
       "  </thead>\n",
       "  <tbody>\n",
       "    <tr>\n",
       "      <th>0</th>\n",
       "      <td>26</td>\n",
       "      <td>0</td>\n",
       "      <td>623</td>\n",
       "      <td>134</td>\n",
       "      <td>1</td>\n",
       "      <td>6</td>\n",
       "    </tr>\n",
       "    <tr>\n",
       "      <th>1</th>\n",
       "      <td>5</td>\n",
       "      <td>0</td>\n",
       "      <td>517</td>\n",
       "      <td>164</td>\n",
       "      <td>1</td>\n",
       "      <td>3</td>\n",
       "    </tr>\n",
       "    <tr>\n",
       "      <th>2</th>\n",
       "      <td>21</td>\n",
       "      <td>1</td>\n",
       "      <td>711</td>\n",
       "      <td>100</td>\n",
       "      <td>0</td>\n",
       "      <td>5</td>\n",
       "    </tr>\n",
       "    <tr>\n",
       "      <th>3</th>\n",
       "      <td>7</td>\n",
       "      <td>0</td>\n",
       "      <td>558</td>\n",
       "      <td>120</td>\n",
       "      <td>0</td>\n",
       "      <td>3</td>\n",
       "    </tr>\n",
       "    <tr>\n",
       "      <th>4</th>\n",
       "      <td>37</td>\n",
       "      <td>0</td>\n",
       "      <td>504</td>\n",
       "      <td>134</td>\n",
       "      <td>1</td>\n",
       "      <td>2</td>\n",
       "    </tr>\n",
       "  </tbody>\n",
       "</table>\n",
       "</div>"
      ],
      "text/plain": [
       "   Outcome  Feature1  Feature2  Feature3  Feature4  Feature5\n",
       "0       26         0       623       134         1         6\n",
       "1        5         0       517       164         1         3\n",
       "2       21         1       711       100         0         5\n",
       "3        7         0       558       120         0         3\n",
       "4       37         0       504       134         1         2"
      ]
     },
     "execution_count": 3,
     "metadata": {},
     "output_type": "execute_result"
    }
   ],
   "source": [
    "df.head()"
   ]
  },
  {
   "cell_type": "code",
   "execution_count": 4,
   "metadata": {},
   "outputs": [],
   "source": [
    "array = df.values\n",
    "X = array[:,1:5]\n",
    "Y = array[:,0]"
   ]
  },
  {
   "cell_type": "code",
   "execution_count": 5,
   "metadata": {},
   "outputs": [
    {
     "name": "stdout",
     "output_type": "stream",
     "text": [
      "Best: -14.007608 using {'n_estimators': 100, 'num_leaves': 20}\n",
      "-14.007608 (0.486979) with: {'n_estimators': 100, 'num_leaves': 20}\n",
      "-14.007608 (0.486979) with: {'n_estimators': 100, 'num_leaves': 30}\n",
      "-14.007608 (0.486979) with: {'n_estimators': 100, 'num_leaves': 40}\n",
      "-14.007608 (0.486979) with: {'n_estimators': 100, 'num_leaves': 50}\n",
      "-14.286053 (0.603763) with: {'n_estimators': 180, 'num_leaves': 20}\n",
      "-14.286053 (0.603763) with: {'n_estimators': 180, 'num_leaves': 30}\n",
      "-14.286053 (0.603763) with: {'n_estimators': 180, 'num_leaves': 40}\n",
      "-14.286053 (0.603763) with: {'n_estimators': 180, 'num_leaves': 50}\n",
      "-14.560167 (0.815887) with: {'n_estimators': 260, 'num_leaves': 20}\n",
      "-14.560167 (0.815887) with: {'n_estimators': 260, 'num_leaves': 30}\n",
      "-14.560167 (0.815887) with: {'n_estimators': 260, 'num_leaves': 40}\n",
      "-14.560167 (0.815887) with: {'n_estimators': 260, 'num_leaves': 50}\n",
      "-14.686104 (0.895253) with: {'n_estimators': 340, 'num_leaves': 20}\n",
      "-14.686104 (0.895253) with: {'n_estimators': 340, 'num_leaves': 30}\n",
      "-14.686104 (0.895253) with: {'n_estimators': 340, 'num_leaves': 40}\n",
      "-14.686104 (0.895253) with: {'n_estimators': 340, 'num_leaves': 50}\n",
      "-14.800321 (0.987656) with: {'n_estimators': 420, 'num_leaves': 20}\n",
      "-14.800321 (0.987656) with: {'n_estimators': 420, 'num_leaves': 30}\n",
      "-14.800321 (0.987656) with: {'n_estimators': 420, 'num_leaves': 40}\n",
      "-14.800321 (0.987656) with: {'n_estimators': 420, 'num_leaves': 50}\n",
      "-14.868013 (1.020759) with: {'n_estimators': 500, 'num_leaves': 20}\n",
      "-14.868013 (1.020759) with: {'n_estimators': 500, 'num_leaves': 30}\n",
      "-14.868013 (1.020759) with: {'n_estimators': 500, 'num_leaves': 40}\n",
      "-14.868013 (1.020759) with: {'n_estimators': 500, 'num_leaves': 50}\n",
      "-14.928148 (1.070307) with: {'n_estimators': 580, 'num_leaves': 20}\n",
      "-14.928148 (1.070307) with: {'n_estimators': 580, 'num_leaves': 30}\n",
      "-14.928148 (1.070307) with: {'n_estimators': 580, 'num_leaves': 40}\n",
      "-14.928148 (1.070307) with: {'n_estimators': 580, 'num_leaves': 50}\n"
     ]
    },
    {
     "name": "stderr",
     "output_type": "stream",
     "text": [
      "C:\\Users\\16179\\anaconda3\\lib\\site-packages\\sklearn\\model_selection\\_search.py:847: FutureWarning: The parameter 'iid' is deprecated in 0.22 and will be removed in 0.24.\n",
      "  warnings.warn(\n"
     ]
    }
   ],
   "source": [
    "kfold = KFold(n_splits=5, random_state=7, shuffle=True)\n",
    "model = LGBMRegressor()\n",
    "scoring = 'neg_root_mean_squared_error'\n",
    "param_grid = {'n_estimators':range(100, 600, 80), 'num_leaves':range(20,60,10)}\n",
    "grid = GridSearchCV(estimator=model, param_grid=param_grid, scoring=scoring, cv=kfold, iid=True)\n",
    "grid_result = grid.fit(X, Y)\n",
    "print(\"Best: %f using %s\" % (grid_result.best_score_, grid_result.best_params_))\n",
    "means = grid_result.cv_results_['mean_test_score']\n",
    "stds = grid_result.cv_results_['std_test_score']\n",
    "params = grid_result.cv_results_['params']\n",
    "for mean, stdev, param in zip(means, stds, params):\n",
    "    print(\"%f (%f) with: %r\" % (mean, stdev, param))"
   ]
  },
  {
   "cell_type": "code",
   "execution_count": 6,
   "metadata": {},
   "outputs": [
    {
     "data": {
      "text/plain": [
       "3.7426739104549305"
      ]
     },
     "execution_count": 6,
     "metadata": {},
     "output_type": "execute_result"
    }
   ],
   "source": [
    "math.sqrt(14.007608)"
   ]
  },
  {
   "cell_type": "code",
   "execution_count": null,
   "metadata": {},
   "outputs": [],
   "source": []
  }
 ],
 "metadata": {
  "kernelspec": {
   "display_name": "Python 3",
   "language": "python",
   "name": "python3"
  },
  "language_info": {
   "codemirror_mode": {
    "name": "ipython",
    "version": 3
   },
   "file_extension": ".py",
   "mimetype": "text/x-python",
   "name": "python",
   "nbconvert_exporter": "python",
   "pygments_lexer": "ipython3",
   "version": "3.8.5"
  }
 },
 "nbformat": 4,
 "nbformat_minor": 4
}
